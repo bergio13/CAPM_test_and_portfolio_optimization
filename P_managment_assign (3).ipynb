{
 "cells": [
  {
   "cell_type": "code",
   "execution_count": 1,
   "id": "a5379cf6-46f1-4ca8-ad6c-ef7053aa1244",
   "metadata": {},
   "outputs": [],
   "source": [
    "import pandas as pd\n",
    "import numpy as np\n",
    "import yfinance as yf\n",
    "import matplotlib.pyplot as plt\n",
    "import statsmodels.api as sm\n",
    "from scipy import optimize\n",
    "from scipy.optimize import Bounds"
   ]
  },
  {
   "cell_type": "code",
   "execution_count": 2,
   "id": "07c0ab75-6730-47ff-8cff-1240e1999180",
   "metadata": {},
   "outputs": [],
   "source": [
    "start, end = '2017-1-1', '2022-1-1'\n",
    "ticker = '^STOXX'"
   ]
  },
  {
   "cell_type": "code",
   "execution_count": 3,
   "id": "6894724b-3648-4b7b-bfc7-754c9542dc42",
   "metadata": {},
   "outputs": [
    {
     "name": "stdout",
     "output_type": "stream",
     "text": [
      "[*********************100%***********************]  1 of 1 completed\n"
     ]
    }
   ],
   "source": [
    "index = yf.download(ticker, start, end)\n",
    "index_close = index['Adj Close']"
   ]
  },
  {
   "cell_type": "code",
   "execution_count": 4,
   "id": "778b658a-d73a-405e-b287-9d44f91b651e",
   "metadata": {},
   "outputs": [
    {
     "data": {
      "text/plain": [
       "0.005955463696412721"
      ]
     },
     "execution_count": 4,
     "metadata": {},
     "output_type": "execute_result"
    }
   ],
   "source": [
    "average_market_ret = index_close.pct_change().mean() * 21\n",
    "average_market_ret"
   ]
  },
  {
   "cell_type": "code",
   "execution_count": 5,
   "id": "5c0e8378-3075-4205-8127-bfd8344a00f9",
   "metadata": {},
   "outputs": [],
   "source": [
    "av_m = index_close.pct_change().mean() * 253"
   ]
  },
  {
   "cell_type": "code",
   "execution_count": 6,
   "id": "9dbbfa68-9f84-4f3b-ab86-f980966c0c3e",
   "metadata": {},
   "outputs": [],
   "source": [
    "av_std = index_close.pct_change().std() * (253**0.5)"
   ]
  },
  {
   "cell_type": "code",
   "execution_count": 7,
   "id": "55735f1d-a72d-4b1a-b7af-9fe082cec4d3",
   "metadata": {},
   "outputs": [
    {
     "data": {
      "text/plain": [
       "0.0014017543214283668"
      ]
     },
     "execution_count": 7,
     "metadata": {},
     "output_type": "execute_result"
    }
   ],
   "source": [
    "weekly_index = index_close.resample('1W').last().dropna()\n",
    "average_weekly_index = weekly_index.pct_change().mean()\n",
    "average_weekly_index"
   ]
  },
  {
   "cell_type": "code",
   "execution_count": 8,
   "id": "5cebc49d-fe44-43d5-9283-ddfffbb65815",
   "metadata": {},
   "outputs": [
    {
     "data": {
      "text/plain": [
       "0     -0.0071\n",
       "1     -0.0067\n",
       "2     -0.0067\n",
       "3     -0.0079\n",
       "4     -0.0080\n",
       "        ...  \n",
       "256   -0.0037\n",
       "257   -0.0040\n",
       "258   -0.0041\n",
       "259   -0.0041\n",
       "260   -0.0040\n",
       "Name: Ultimo, Length: 261, dtype: float64"
      ]
     },
     "execution_count": 8,
     "metadata": {},
     "output_type": "execute_result"
    }
   ],
   "source": [
    "rf = pd.read_csv('wbond.csv')\n",
    "rf_close = rf.Ultimo / 100\n",
    "rf_close"
   ]
  },
  {
   "cell_type": "code",
   "execution_count": 9,
   "id": "0dcb12a5-2505-4fb6-83f5-d75da3c1fb77",
   "metadata": {},
   "outputs": [
    {
     "data": {
      "text/plain": [
       "-0.003845593869731802"
      ]
     },
     "execution_count": 9,
     "metadata": {},
     "output_type": "execute_result"
    }
   ],
   "source": [
    "rf_close.mean()"
   ]
  },
  {
   "cell_type": "markdown",
   "id": "bb76fbf4-f45d-4f17-b5ce-0c15bd943220",
   "metadata": {},
   "source": [
    "## Calculate multiple betas"
   ]
  },
  {
   "cell_type": "code",
   "execution_count": 10,
   "id": "af035e33-54fe-4387-b14d-25142e216b0c",
   "metadata": {},
   "outputs": [],
   "source": [
    "stocks = ['STLA.MI', 'ENEL.MI', 'ENI.MI', 'ISP.MI', 'RACE.MI', 'STM.MI', 'G.MI', 'UCG.MI', 'CNHI.MI', 'ATL.MI'] \n",
    "indexes = ['^STOXX', 'FTSEMIB.MI']"
   ]
  },
  {
   "cell_type": "code",
   "execution_count": 11,
   "id": "b5c454c4-dd28-4f65-87c5-667ebb6ad766",
   "metadata": {},
   "outputs": [],
   "source": [
    "def beta_calculator(ticker, ticker1, start, end):\n",
    "    index = yf.download(ticker, start, end, progress = False)\n",
    "    index_close = index['Adj Close']\n",
    "    index_log_return = np.log(index_close / index_close.shift(1))\n",
    "    stock = yf.download(ticker1, start, end, progress = False)\n",
    "    stock_close = stock['Adj Close']\n",
    "    stock_log_ret = np.log(stock_close / stock_close.shift(1))\n",
    "    frame = {'Index': index_log_return, 'Stock': stock_log_ret}\n",
    "    df = pd.DataFrame(frame).fillna(method = 'bfill')\n",
    "    matrix_cov = df.cov()\n",
    "    cov_index_stock = matrix_cov['Stock'][0]\n",
    "    market_var = index_log_return.var()\n",
    "    print(ticker1, ticker)\n",
    "    print('Beta: ', cov_index_stock / market_var)\n",
    "    return cov_index_stock / market_var"
   ]
  },
  {
   "cell_type": "code",
   "execution_count": 12,
   "id": "a8c9d169-8efc-41f8-87bc-614b93f60cf2",
   "metadata": {},
   "outputs": [
    {
     "name": "stdout",
     "output_type": "stream",
     "text": [
      "STLA.MI ^STOXX\n",
      "Beta:  1.530757928319013\n"
     ]
    },
    {
     "data": {
      "text/plain": [
       "1.530757928319013"
      ]
     },
     "execution_count": 12,
     "metadata": {},
     "output_type": "execute_result"
    }
   ],
   "source": [
    "beta_calculator('^STOXX', 'STLA.MI', '2017-11-22', end)"
   ]
  },
  {
   "cell_type": "markdown",
   "id": "998864e8-8ebc-4ecd-b5be-ccd01bbfdfbd",
   "metadata": {},
   "source": [
    "## Beta stocks formula"
   ]
  },
  {
   "cell_type": "code",
   "execution_count": 13,
   "id": "5e0c4157-238d-4bd8-b978-9641770dc6e0",
   "metadata": {
    "tags": []
   },
   "outputs": [
    {
     "name": "stdout",
     "output_type": "stream",
     "text": [
      "STLA.MI ^STOXX\n",
      "Beta:  1.5556089319385882\n",
      "ENEL.MI ^STOXX\n",
      "Beta:  0.9626503019981978\n",
      "ENI.MI ^STOXX\n",
      "Beta:  1.3163622694210275\n",
      "ISP.MI ^STOXX\n",
      "Beta:  1.287798436733108\n",
      "RACE.MI ^STOXX\n",
      "Beta:  0.9748075002029605\n",
      "STM.MI ^STOXX\n",
      "Beta:  1.5954681164768434\n",
      "G.MI ^STOXX\n",
      "Beta:  0.944446693378488\n",
      "UCG.MI ^STOXX\n",
      "Beta:  1.4552242904334804\n",
      "CNHI.MI ^STOXX\n",
      "Beta:  1.5426072765206684\n",
      "ATL.MI ^STOXX\n",
      "Beta:  1.2554901971502266\n"
     ]
    },
    {
     "data": {
      "text/plain": [
       "[1.5556089319385882,\n",
       " 0.9626503019981978,\n",
       " 1.3163622694210275,\n",
       " 1.287798436733108,\n",
       " 0.9748075002029605,\n",
       " 1.5954681164768434,\n",
       " 0.944446693378488,\n",
       " 1.4552242904334804,\n",
       " 1.5426072765206684,\n",
       " 1.2554901971502266]"
      ]
     },
     "execution_count": 13,
     "metadata": {},
     "output_type": "execute_result"
    }
   ],
   "source": [
    "betas = []\n",
    "for i in stocks:\n",
    "    betas.append(beta_calculator(ticker, i, start, end))\n",
    "betas"
   ]
  },
  {
   "cell_type": "markdown",
   "id": "a99f93ea-2a18-491d-a835-090d5e5d2112",
   "metadata": {},
   "source": [
    "## Betas stocks regression"
   ]
  },
  {
   "cell_type": "code",
   "execution_count": 14,
   "id": "d2270949-be6e-4800-9871-ff88e8e3b912",
   "metadata": {},
   "outputs": [],
   "source": [
    "def regression(index, stock, start, end):\n",
    "    index = yf.download(index, start, end, progress = False)\n",
    "    index_ret = index['Adj Close'].pct_change()\n",
    "    stock = yf.download(stock, start, end, progress = False)\n",
    "    stock_ret = stock['Adj Close'].pct_change()\n",
    "    frame = {'Index': index_ret, 'Stock': stock_ret}\n",
    "    df = pd.DataFrame(frame).dropna()\n",
    "    y = df.Stock\n",
    "    X = sm.add_constant(df.Index)\n",
    "    OLS_regr = sm.OLS(y, X).fit()\n",
    "    print(OLS_regr.pvalues)\n",
    "    print(OLS_regr.params[1])\n",
    "    return OLS_regr.params[1]"
   ]
  },
  {
   "cell_type": "code",
   "execution_count": 15,
   "id": "23af11da-ca12-40f7-ab8a-bda59f42ea7a",
   "metadata": {
    "tags": []
   },
   "outputs": [
    {
     "name": "stdout",
     "output_type": "stream",
     "text": [
      "STLA.MI\n",
      "const     2.475939e-01\n",
      "Index    5.120633e-145\n",
      "dtype: float64\n",
      "1.5520829169669035\n",
      "ENEL.MI\n",
      "const     1.567205e-01\n",
      "Index    2.895478e-147\n",
      "dtype: float64\n",
      "0.9499886030070396\n",
      "ENI.MI\n",
      "const     6.665671e-01\n",
      "Index    8.436657e-223\n",
      "dtype: float64\n",
      "1.307908168154589\n",
      "ISP.MI\n",
      "const     7.307195e-01\n",
      "Index    6.000250e-181\n",
      "dtype: float64\n",
      "1.2950055125999298\n",
      "RACE.MI\n",
      "const     1.124075e-02\n",
      "Index    5.095510e-116\n",
      "dtype: float64\n",
      "0.9872143652698667\n",
      "STM.MI\n",
      "const     8.465541e-02\n",
      "Index    1.612154e-147\n",
      "dtype: float64\n",
      "1.6093964413568338\n",
      "G.MI\n",
      "const     2.661557e-01\n",
      "Index    1.394734e-202\n",
      "dtype: float64\n",
      "0.9456639723348628\n",
      "UCG.MI\n",
      "const     8.777294e-01\n",
      "Index    1.876220e-128\n",
      "dtype: float64\n",
      "1.4588698858424332\n",
      "CNHI.MI\n",
      "const     6.157321e-01\n",
      "Index    6.231679e-173\n",
      "dtype: float64\n",
      "1.5379124545056624\n",
      "ATL.MI\n",
      "const    7.206396e-01\n",
      "Index    3.187681e-86\n",
      "dtype: float64\n",
      "1.2196654626514116\n"
     ]
    },
    {
     "data": {
      "text/plain": [
       "[1.5520829169669035,\n",
       " 0.9499886030070396,\n",
       " 1.307908168154589,\n",
       " 1.2950055125999298,\n",
       " 0.9872143652698667,\n",
       " 1.6093964413568338,\n",
       " 0.9456639723348628,\n",
       " 1.4588698858424332,\n",
       " 1.5379124545056624,\n",
       " 1.2196654626514116]"
      ]
     },
     "execution_count": 15,
     "metadata": {},
     "output_type": "execute_result"
    }
   ],
   "source": [
    "regression_betas = []\n",
    "for i in stocks:\n",
    "    print(i)\n",
    "    regression_betas.append(regression(ticker, i, start, end))\n",
    "regression_betas"
   ]
  },
  {
   "cell_type": "code",
   "execution_count": 16,
   "id": "a0702923-dd64-42a2-b1d4-7a0a93e0fe07",
   "metadata": {},
   "outputs": [
    {
     "data": {
      "text/html": [
       "<div>\n",
       "<style scoped>\n",
       "    .dataframe tbody tr th:only-of-type {\n",
       "        vertical-align: middle;\n",
       "    }\n",
       "\n",
       "    .dataframe tbody tr th {\n",
       "        vertical-align: top;\n",
       "    }\n",
       "\n",
       "    .dataframe thead th {\n",
       "        text-align: right;\n",
       "    }\n",
       "</style>\n",
       "<table border=\"1\" class=\"dataframe\">\n",
       "  <thead>\n",
       "    <tr style=\"text-align: right;\">\n",
       "      <th></th>\n",
       "      <th>regression_betas</th>\n",
       "      <th>formula_betas</th>\n",
       "    </tr>\n",
       "  </thead>\n",
       "  <tbody>\n",
       "    <tr>\n",
       "      <th>STLA.MI</th>\n",
       "      <td>1.552083</td>\n",
       "      <td>1.555609</td>\n",
       "    </tr>\n",
       "    <tr>\n",
       "      <th>ENEL.MI</th>\n",
       "      <td>0.949989</td>\n",
       "      <td>0.962650</td>\n",
       "    </tr>\n",
       "    <tr>\n",
       "      <th>ENI.MI</th>\n",
       "      <td>1.307908</td>\n",
       "      <td>1.316362</td>\n",
       "    </tr>\n",
       "    <tr>\n",
       "      <th>ISP.MI</th>\n",
       "      <td>1.295006</td>\n",
       "      <td>1.287798</td>\n",
       "    </tr>\n",
       "    <tr>\n",
       "      <th>RACE.MI</th>\n",
       "      <td>0.987214</td>\n",
       "      <td>0.974808</td>\n",
       "    </tr>\n",
       "    <tr>\n",
       "      <th>STM.MI</th>\n",
       "      <td>1.609396</td>\n",
       "      <td>1.595468</td>\n",
       "    </tr>\n",
       "    <tr>\n",
       "      <th>G.MI</th>\n",
       "      <td>0.945664</td>\n",
       "      <td>0.944447</td>\n",
       "    </tr>\n",
       "    <tr>\n",
       "      <th>UCG.MI</th>\n",
       "      <td>1.458870</td>\n",
       "      <td>1.455224</td>\n",
       "    </tr>\n",
       "    <tr>\n",
       "      <th>CNHI.MI</th>\n",
       "      <td>1.537912</td>\n",
       "      <td>1.542607</td>\n",
       "    </tr>\n",
       "    <tr>\n",
       "      <th>ATL.MI</th>\n",
       "      <td>1.219665</td>\n",
       "      <td>1.255490</td>\n",
       "    </tr>\n",
       "  </tbody>\n",
       "</table>\n",
       "</div>"
      ],
      "text/plain": [
       "         regression_betas  formula_betas\n",
       "STLA.MI          1.552083       1.555609\n",
       "ENEL.MI          0.949989       0.962650\n",
       "ENI.MI           1.307908       1.316362\n",
       "ISP.MI           1.295006       1.287798\n",
       "RACE.MI          0.987214       0.974808\n",
       "STM.MI           1.609396       1.595468\n",
       "G.MI             0.945664       0.944447\n",
       "UCG.MI           1.458870       1.455224\n",
       "CNHI.MI          1.537912       1.542607\n",
       "ATL.MI           1.219665       1.255490"
      ]
     },
     "execution_count": 16,
     "metadata": {},
     "output_type": "execute_result"
    }
   ],
   "source": [
    "dftot = pd.DataFrame()\n",
    "dftot.index = stocks\n",
    "dftot['regression_betas'] = regression_betas\n",
    "dftot['formula_betas'] = betas\n",
    "dftot"
   ]
  },
  {
   "cell_type": "code",
   "execution_count": 17,
   "id": "c325803c-a031-405b-aca4-6421c16a61af",
   "metadata": {},
   "outputs": [
    {
     "name": "stdout",
     "output_type": "stream",
     "text": [
      "Dispersion betas 0.25640557033218103\n"
     ]
    }
   ],
   "source": [
    "print('Dispersion betas', dftot['regression_betas'].std())"
   ]
  },
  {
   "cell_type": "code",
   "execution_count": 18,
   "id": "089d02a5-9e26-4cb8-8322-ecec663a03ea",
   "metadata": {},
   "outputs": [
    {
     "data": {
      "text/plain": [
       "[0.12922828234448902,\n",
       " 0.15287672873136562,\n",
       " 0.13273064718912772,\n",
       " 0.10983056935879781,\n",
       " 0.11390169430641202,\n",
       " 0.09456385080524457,\n",
       " 0.07639346225229,\n",
       " 0.07384900916003113,\n",
       " 0.06028857091540442,\n",
       " 0.056337184936837696]"
      ]
     },
     "execution_count": 18,
     "metadata": {},
     "output_type": "execute_result"
    }
   ],
   "source": [
    "market_weights = [43.17, 51.07, 44.34, 36.69, 38.05, 31.59, 25.52, 24.67, 20.14, 18.82]\n",
    "tot = sum(market_weights)\n",
    "w = [i/tot for i in market_weights]\n",
    "w"
   ]
  },
  {
   "cell_type": "code",
   "execution_count": 46,
   "id": "791c720a-940b-43c6-a5f5-422f8de4ef94",
   "metadata": {},
   "outputs": [
    {
     "name": "stdout",
     "output_type": "stream",
     "text": [
      "[0.20057301 0.14523115 0.1735995  0.14223119 0.11244539 0.15219072\n",
      " 0.07224254 0.1077361  0.09271854 0.06871252]\n",
      "1.2676806669276166\n"
     ]
    }
   ],
   "source": [
    "weights = np.array(w)\n",
    "betas = np.array(regression_betas)\n",
    "print(weights * betas)\n",
    "print(sum(weights * betas))"
   ]
  },
  {
   "cell_type": "markdown",
   "id": "9c6bf7d4-fa5b-4adb-a7cf-7c9b58bdb4cd",
   "metadata": {},
   "source": [
    "## Compute expected returns"
   ]
  },
  {
   "cell_type": "code",
   "execution_count": 20,
   "id": "712c5bd1-897b-4a6d-ab61-c0a37159b679",
   "metadata": {},
   "outputs": [
    {
     "data": {
      "text/plain": [
       "-0.015382375478927207"
      ]
     },
     "execution_count": 20,
     "metadata": {},
     "output_type": "execute_result"
    }
   ],
   "source": [
    "rf = rf_close.mean() * 4\n",
    "rf"
   ]
  },
  {
   "cell_type": "code",
   "execution_count": 21,
   "id": "12b7bc55-2094-4450-9b5f-785b42445020",
   "metadata": {},
   "outputs": [
    {
     "name": "stdout",
     "output_type": "stream",
     "text": [
      "[0.017735720190105053, 0.004888328550442852, 0.012525558669268862, 0.01225024388010874, 0.005682645878786495, 0.01895866695610931, 0.004796050276667203, 0.015746755522925152, 0.0174333531410669, 0.010642650010845182]\n"
     ]
    }
   ],
   "source": [
    "exp_ret_beta = []\n",
    "for i in regression_betas:\n",
    "    exp_ret_beta.append(rf + i*(average_market_ret - rf))\n",
    "print(exp_ret_beta)"
   ]
  },
  {
   "cell_type": "markdown",
   "id": "06e45dc8-65e8-4bdd-a0d4-4282b09586ac",
   "metadata": {},
   "source": [
    "## Mean returns and alphas "
   ]
  },
  {
   "cell_type": "code",
   "execution_count": 22,
   "id": "9c4c026f-a3d8-4a6c-850f-09d02800b21e",
   "metadata": {},
   "outputs": [
    {
     "data": {
      "text/plain": [
       "[(1.5520829169669035, 0.020549614412370288),\n",
       " (0.9499886030070396, 0.01454914406996069),\n",
       " (1.307908168154589, 0.004347293050909805),\n",
       " (1.2950055125999298, 0.009324941329041618),\n",
       " (0.9872143652698667, 0.025053198159478565),\n",
       " (1.6093964413568338, 0.03000477918759769),\n",
       " (0.9456639723348628, 0.011361276777424444),\n",
       " (1.4588698858424332, 0.007907672192167774),\n",
       " (1.5379124545056624, 0.014854272605102808),\n",
       " (1.2196654626514116, 0.0029388046804475804)]"
      ]
     },
     "execution_count": 22,
     "metadata": {},
     "output_type": "execute_result"
    }
   ],
   "source": [
    "mean_ret_beta = []\n",
    "monthly_ret = []\n",
    "mean_ri_rf = []\n",
    "for i in range(len(stocks)):\n",
    "    stock = yf.download(stocks[i], start, end, progress = False)\n",
    "    stock_close = stock['Adj Close'].resample('1W').last()\n",
    "    for j in range(len(stock_close)):\n",
    "        li = []\n",
    "        ri_rf = stock_close.pct_change()[j] - rf_close[j]\n",
    "        li.append(ri_rf)\n",
    "    mean_ri_rf.append((sum(li)/len(li)) * 4)\n",
    "    mean_ret_beta.append((regression_betas[i], stock_close.pct_change().mean() * 4))\n",
    "    monthly_ret.append(stock_close.pct_change().mean() * 4)\n",
    "mean_ret_beta"
   ]
  },
  {
   "cell_type": "code",
   "execution_count": 23,
   "id": "33109edb-bfba-48fc-b738-b385fdb51749",
   "metadata": {},
   "outputs": [
    {
     "data": {
      "text/html": [
       "<div>\n",
       "<style scoped>\n",
       "    .dataframe tbody tr th:only-of-type {\n",
       "        vertical-align: middle;\n",
       "    }\n",
       "\n",
       "    .dataframe tbody tr th {\n",
       "        vertical-align: top;\n",
       "    }\n",
       "\n",
       "    .dataframe thead th {\n",
       "        text-align: right;\n",
       "    }\n",
       "</style>\n",
       "<table border=\"1\" class=\"dataframe\">\n",
       "  <thead>\n",
       "    <tr style=\"text-align: right;\">\n",
       "      <th></th>\n",
       "      <th>regression_betas</th>\n",
       "      <th>formula_betas</th>\n",
       "      <th>mean ri-rf</th>\n",
       "      <th>m_expected_returns</th>\n",
       "      <th>m_mean_returns</th>\n",
       "    </tr>\n",
       "  </thead>\n",
       "  <tbody>\n",
       "    <tr>\n",
       "      <th>STLA.MI</th>\n",
       "      <td>1.552083</td>\n",
       "      <td>1.555609</td>\n",
       "      <td>0.037208</td>\n",
       "      <td>0.017736</td>\n",
       "      <td>0.020550</td>\n",
       "    </tr>\n",
       "    <tr>\n",
       "      <th>ENEL.MI</th>\n",
       "      <td>0.949989</td>\n",
       "      <td>0.962650</td>\n",
       "      <td>0.091188</td>\n",
       "      <td>0.004888</td>\n",
       "      <td>0.014549</td>\n",
       "    </tr>\n",
       "    <tr>\n",
       "      <th>ENI.MI</th>\n",
       "      <td>1.307908</td>\n",
       "      <td>1.316362</td>\n",
       "      <td>0.009464</td>\n",
       "      <td>0.012526</td>\n",
       "      <td>0.004347</td>\n",
       "    </tr>\n",
       "    <tr>\n",
       "      <th>ISP.MI</th>\n",
       "      <td>1.295006</td>\n",
       "      <td>1.287798</td>\n",
       "      <td>0.056871</td>\n",
       "      <td>0.012250</td>\n",
       "      <td>0.009325</td>\n",
       "    </tr>\n",
       "    <tr>\n",
       "      <th>RACE.MI</th>\n",
       "      <td>0.987214</td>\n",
       "      <td>0.974808</td>\n",
       "      <td>0.083948</td>\n",
       "      <td>0.005683</td>\n",
       "      <td>0.025053</td>\n",
       "    </tr>\n",
       "    <tr>\n",
       "      <th>STM.MI</th>\n",
       "      <td>1.609396</td>\n",
       "      <td>1.595468</td>\n",
       "      <td>0.092385</td>\n",
       "      <td>0.018959</td>\n",
       "      <td>0.030005</td>\n",
       "    </tr>\n",
       "    <tr>\n",
       "      <th>G.MI</th>\n",
       "      <td>0.945664</td>\n",
       "      <td>0.944447</td>\n",
       "      <td>0.014927</td>\n",
       "      <td>0.004796</td>\n",
       "      <td>0.011361</td>\n",
       "    </tr>\n",
       "    <tr>\n",
       "      <th>UCG.MI</th>\n",
       "      <td>1.458870</td>\n",
       "      <td>1.455224</td>\n",
       "      <td>0.026660</td>\n",
       "      <td>0.015747</td>\n",
       "      <td>0.007908</td>\n",
       "    </tr>\n",
       "    <tr>\n",
       "      <th>CNHI.MI</th>\n",
       "      <td>1.537912</td>\n",
       "      <td>1.542607</td>\n",
       "      <td>0.085130</td>\n",
       "      <td>0.017433</td>\n",
       "      <td>0.014854</td>\n",
       "    </tr>\n",
       "    <tr>\n",
       "      <th>ATL.MI</th>\n",
       "      <td>1.219665</td>\n",
       "      <td>1.255490</td>\n",
       "      <td>0.062363</td>\n",
       "      <td>0.010643</td>\n",
       "      <td>0.002939</td>\n",
       "    </tr>\n",
       "  </tbody>\n",
       "</table>\n",
       "</div>"
      ],
      "text/plain": [
       "         regression_betas  formula_betas  mean ri-rf  m_expected_returns  \\\n",
       "STLA.MI          1.552083       1.555609    0.037208            0.017736   \n",
       "ENEL.MI          0.949989       0.962650    0.091188            0.004888   \n",
       "ENI.MI           1.307908       1.316362    0.009464            0.012526   \n",
       "ISP.MI           1.295006       1.287798    0.056871            0.012250   \n",
       "RACE.MI          0.987214       0.974808    0.083948            0.005683   \n",
       "STM.MI           1.609396       1.595468    0.092385            0.018959   \n",
       "G.MI             0.945664       0.944447    0.014927            0.004796   \n",
       "UCG.MI           1.458870       1.455224    0.026660            0.015747   \n",
       "CNHI.MI          1.537912       1.542607    0.085130            0.017433   \n",
       "ATL.MI           1.219665       1.255490    0.062363            0.010643   \n",
       "\n",
       "         m_mean_returns  \n",
       "STLA.MI        0.020550  \n",
       "ENEL.MI        0.014549  \n",
       "ENI.MI         0.004347  \n",
       "ISP.MI         0.009325  \n",
       "RACE.MI        0.025053  \n",
       "STM.MI         0.030005  \n",
       "G.MI           0.011361  \n",
       "UCG.MI         0.007908  \n",
       "CNHI.MI        0.014854  \n",
       "ATL.MI         0.002939  "
      ]
     },
     "execution_count": 23,
     "metadata": {},
     "output_type": "execute_result"
    }
   ],
   "source": [
    "dftot['mean ri-rf'] = mean_ri_rf\n",
    "dftot['m_expected_returns'] = exp_ret_beta\n",
    "dftot['m_mean_returns'] = monthly_ret\n",
    "dftot"
   ]
  },
  {
   "cell_type": "code",
   "execution_count": 24,
   "id": "7e4a1683-5996-44e3-a134-ec7aeaa30fa2",
   "metadata": {},
   "outputs": [
    {
     "data": {
      "text/plain": [
       "STLA.MI    0.002814\n",
       "ENEL.MI    0.009661\n",
       "ENI.MI    -0.008178\n",
       "ISP.MI    -0.002925\n",
       "RACE.MI    0.019371\n",
       "STM.MI     0.011046\n",
       "G.MI       0.006565\n",
       "UCG.MI    -0.007839\n",
       "CNHI.MI   -0.002579\n",
       "ATL.MI    -0.007704\n",
       "dtype: float64"
      ]
     },
     "execution_count": 24,
     "metadata": {},
     "output_type": "execute_result"
    }
   ],
   "source": [
    "alphas = dftot['m_mean_returns'] - dftot['m_expected_returns']\n",
    "alphas"
   ]
  },
  {
   "cell_type": "markdown",
   "id": "260b77d7-4e7d-4955-a0b1-242ab307b6a3",
   "metadata": {},
   "source": [
    "## SML and second pass regression"
   ]
  },
  {
   "cell_type": "code",
   "execution_count": 25,
   "id": "1aa2d554-c90a-4423-9854-cc344ae7fafc",
   "metadata": {},
   "outputs": [],
   "source": [
    "y = dftot['mean ri-rf']\n",
    "X = sm.add_constant(dftot.regression_betas)\n",
    "OLS_regr = sm.OLS(y, X).fit()"
   ]
  },
  {
   "cell_type": "code",
   "execution_count": 26,
   "id": "2b97569a-f3e2-407a-ba53-95775b013b22",
   "metadata": {},
   "outputs": [
    {
     "name": "stderr",
     "output_type": "stream",
     "text": [
      "C:\\Users\\bergi\\anaconda3\\lib\\site-packages\\scipy\\stats\\stats.py:1541: UserWarning: kurtosistest only valid for n>=20 ... continuing anyway, n=10\n",
      "  warnings.warn(\"kurtosistest only valid for n>=20 ... continuing \"\n"
     ]
    },
    {
     "data": {
      "text/html": [
       "<table class=\"simpletable\">\n",
       "<caption>OLS Regression Results</caption>\n",
       "<tr>\n",
       "  <th>Dep. Variable:</th>       <td>mean ri-rf</td>    <th>  R-squared:         </th> <td>   0.000</td>\n",
       "</tr>\n",
       "<tr>\n",
       "  <th>Model:</th>                   <td>OLS</td>       <th>  Adj. R-squared:    </th> <td>  -0.125</td>\n",
       "</tr>\n",
       "<tr>\n",
       "  <th>Method:</th>             <td>Least Squares</td>  <th>  F-statistic:       </th> <td>0.002864</td>\n",
       "</tr>\n",
       "<tr>\n",
       "  <th>Date:</th>             <td>Wed, 21 Dec 2022</td> <th>  Prob (F-statistic):</th>  <td> 0.959</td> \n",
       "</tr>\n",
       "<tr>\n",
       "  <th>Time:</th>                 <td>12:57:34</td>     <th>  Log-Likelihood:    </th> <td>  20.714</td>\n",
       "</tr>\n",
       "<tr>\n",
       "  <th>No. Observations:</th>      <td>    10</td>      <th>  AIC:               </th> <td>  -37.43</td>\n",
       "</tr>\n",
       "<tr>\n",
       "  <th>Df Residuals:</th>          <td>     8</td>      <th>  BIC:               </th> <td>  -36.82</td>\n",
       "</tr>\n",
       "<tr>\n",
       "  <th>Df Model:</th>              <td>     1</td>      <th>                     </th>     <td> </td>   \n",
       "</tr>\n",
       "<tr>\n",
       "  <th>Covariance Type:</th>      <td>nonrobust</td>    <th>                     </th>     <td> </td>   \n",
       "</tr>\n",
       "</table>\n",
       "<table class=\"simpletable\">\n",
       "<tr>\n",
       "          <td></td>            <th>coef</th>     <th>std err</th>      <th>t</th>      <th>P>|t|</th>  <th>[0.025</th>    <th>0.975]</th>  \n",
       "</tr>\n",
       "<tr>\n",
       "  <th>const</th>            <td>    0.0530</td> <td>    0.058</td> <td>    0.913</td> <td> 0.388</td> <td>   -0.081</td> <td>    0.187</td>\n",
       "</tr>\n",
       "<tr>\n",
       "  <th>regression_betas</th> <td>    0.0024</td> <td>    0.044</td> <td>    0.054</td> <td> 0.959</td> <td>   -0.100</td> <td>    0.105</td>\n",
       "</tr>\n",
       "</table>\n",
       "<table class=\"simpletable\">\n",
       "<tr>\n",
       "  <th>Omnibus:</th>       <td> 3.009</td> <th>  Durbin-Watson:     </th> <td>   2.443</td>\n",
       "</tr>\n",
       "<tr>\n",
       "  <th>Prob(Omnibus):</th> <td> 0.222</td> <th>  Jarque-Bera (JB):  </th> <td>   1.026</td>\n",
       "</tr>\n",
       "<tr>\n",
       "  <th>Skew:</th>          <td>-0.217</td> <th>  Prob(JB):          </th> <td>   0.599</td>\n",
       "</tr>\n",
       "<tr>\n",
       "  <th>Kurtosis:</th>      <td> 1.492</td> <th>  Cond. No.          </th> <td>    11.1</td>\n",
       "</tr>\n",
       "</table><br/><br/>Notes:<br/>[1] Standard Errors assume that the covariance matrix of the errors is correctly specified."
      ],
      "text/plain": [
       "<class 'statsmodels.iolib.summary.Summary'>\n",
       "\"\"\"\n",
       "                            OLS Regression Results                            \n",
       "==============================================================================\n",
       "Dep. Variable:             mean ri-rf   R-squared:                       0.000\n",
       "Model:                            OLS   Adj. R-squared:                 -0.125\n",
       "Method:                 Least Squares   F-statistic:                  0.002864\n",
       "Date:                Wed, 21 Dec 2022   Prob (F-statistic):              0.959\n",
       "Time:                        12:57:34   Log-Likelihood:                 20.714\n",
       "No. Observations:                  10   AIC:                            -37.43\n",
       "Df Residuals:                       8   BIC:                            -36.82\n",
       "Df Model:                           1                                         \n",
       "Covariance Type:            nonrobust                                         \n",
       "====================================================================================\n",
       "                       coef    std err          t      P>|t|      [0.025      0.975]\n",
       "------------------------------------------------------------------------------------\n",
       "const                0.0530      0.058      0.913      0.388      -0.081       0.187\n",
       "regression_betas     0.0024      0.044      0.054      0.959      -0.100       0.105\n",
       "==============================================================================\n",
       "Omnibus:                        3.009   Durbin-Watson:                   2.443\n",
       "Prob(Omnibus):                  0.222   Jarque-Bera (JB):                1.026\n",
       "Skew:                          -0.217   Prob(JB):                        0.599\n",
       "Kurtosis:                       1.492   Cond. No.                         11.1\n",
       "==============================================================================\n",
       "\n",
       "Notes:\n",
       "[1] Standard Errors assume that the covariance matrix of the errors is correctly specified.\n",
       "\"\"\""
      ]
     },
     "execution_count": 26,
     "metadata": {},
     "output_type": "execute_result"
    }
   ],
   "source": [
    "OLS_regr.summary()"
   ]
  },
  {
   "cell_type": "code",
   "execution_count": 27,
   "id": "8c210802-4e61-485d-b057-87fa3c6b0c21",
   "metadata": {},
   "outputs": [
    {
     "data": {
      "image/png": "[encoded data removed]",
      "text/plain": [
       "<Figure size 432x288 with 1 Axes>"
      ]
     },
     "metadata": {
      "needs_background": "light"
     },
     "output_type": "display_data"
    }
   ],
   "source": [
    "ax = dftot.plot(kind='scatter', x='regression_betas', y='mean ri-rf')\n",
    "ax.plot(dftot.regression_betas, OLS_regr.predict());"
   ]
  },
  {
   "cell_type": "code",
   "execution_count": 28,
   "id": "2f05e4f3-3026-4a41-9a4a-2414b4da71bd",
   "metadata": {},
   "outputs": [
    {
     "data": {
      "image/png": "[encoded data removed]",
      "text/plain": [
       "<Figure size 432x288 with 1 Axes>"
      ]
     },
     "metadata": {
      "needs_background": "light"
     },
     "output_type": "display_data"
    }
   ],
   "source": [
    "x1, y1 = 0, rf\n",
    "x2, y2 = 1, average_market_ret\n",
    "plt.axline((x1, y1), (x2, y2));\n",
    "plt.plot(x1, y1, x2, y2, marker='o', color='red');\n",
    "plt.scatter(*zip(*mean_ret_beta), marker='o')\n",
    "plt.xlabel('Beta')\n",
    "plt.show()"
   ]
  },
  {
   "cell_type": "code",
   "execution_count": 29,
   "id": "ad2c8fc4-6165-4b6c-b76b-c33cb6aff038",
   "metadata": {},
   "outputs": [
    {
     "name": "stderr",
     "output_type": "stream",
     "text": [
      "C:\\Users\\bergi\\anaconda3\\lib\\site-packages\\scipy\\stats\\stats.py:1541: UserWarning: kurtosistest only valid for n>=20 ... continuing anyway, n=10\n",
      "  warnings.warn(\"kurtosistest only valid for n>=20 ... continuing \"\n"
     ]
    },
    {
     "data": {
      "text/html": [
       "<table class=\"simpletable\">\n",
       "<caption>OLS Regression Results</caption>\n",
       "<tr>\n",
       "  <th>Dep. Variable:</th>     <td>m_mean_returns</td>  <th>  R-squared:         </th> <td>   0.038</td>\n",
       "</tr>\n",
       "<tr>\n",
       "  <th>Model:</th>                   <td>OLS</td>       <th>  Adj. R-squared:    </th> <td>  -0.082</td>\n",
       "</tr>\n",
       "<tr>\n",
       "  <th>Method:</th>             <td>Least Squares</td>  <th>  F-statistic:       </th> <td>  0.3150</td>\n",
       "</tr>\n",
       "<tr>\n",
       "  <th>Date:</th>             <td>Wed, 21 Dec 2022</td> <th>  Prob (F-statistic):</th>  <td> 0.590</td> \n",
       "</tr>\n",
       "<tr>\n",
       "  <th>Time:</th>                 <td>12:57:36</td>     <th>  Log-Likelihood:    </th> <td>  33.813</td>\n",
       "</tr>\n",
       "<tr>\n",
       "  <th>No. Observations:</th>      <td>    10</td>      <th>  AIC:               </th> <td>  -63.63</td>\n",
       "</tr>\n",
       "<tr>\n",
       "  <th>Df Residuals:</th>          <td>     8</td>      <th>  BIC:               </th> <td>  -63.02</td>\n",
       "</tr>\n",
       "<tr>\n",
       "  <th>Df Model:</th>              <td>     1</td>      <th>                     </th>     <td> </td>   \n",
       "</tr>\n",
       "<tr>\n",
       "  <th>Covariance Type:</th>      <td>nonrobust</td>    <th>                     </th>     <td> </td>   \n",
       "</tr>\n",
       "</table>\n",
       "<table class=\"simpletable\">\n",
       "<tr>\n",
       "          <td></td>            <th>coef</th>     <th>std err</th>      <th>t</th>      <th>P>|t|</th>  <th>[0.025</th>    <th>0.975]</th>  \n",
       "</tr>\n",
       "<tr>\n",
       "  <th>const</th>            <td>    0.0055</td> <td>    0.016</td> <td>    0.348</td> <td> 0.737</td> <td>   -0.031</td> <td>    0.042</td>\n",
       "</tr>\n",
       "<tr>\n",
       "  <th>regression_betas</th> <td>    0.0067</td> <td>    0.012</td> <td>    0.561</td> <td> 0.590</td> <td>   -0.021</td> <td>    0.034</td>\n",
       "</tr>\n",
       "</table>\n",
       "<table class=\"simpletable\">\n",
       "<tr>\n",
       "  <th>Omnibus:</th>       <td> 0.827</td> <th>  Durbin-Watson:     </th> <td>   1.317</td>\n",
       "</tr>\n",
       "<tr>\n",
       "  <th>Prob(Omnibus):</th> <td> 0.661</td> <th>  Jarque-Bera (JB):  </th> <td>   0.695</td>\n",
       "</tr>\n",
       "<tr>\n",
       "  <th>Skew:</th>          <td> 0.395</td> <th>  Prob(JB):          </th> <td>   0.706</td>\n",
       "</tr>\n",
       "<tr>\n",
       "  <th>Kurtosis:</th>      <td> 1.979</td> <th>  Cond. No.          </th> <td>    11.1</td>\n",
       "</tr>\n",
       "</table><br/><br/>Notes:<br/>[1] Standard Errors assume that the covariance matrix of the errors is correctly specified."
      ],
      "text/plain": [
       "<class 'statsmodels.iolib.summary.Summary'>\n",
       "\"\"\"\n",
       "                            OLS Regression Results                            \n",
       "==============================================================================\n",
       "Dep. Variable:         m_mean_returns   R-squared:                       0.038\n",
       "Model:                            OLS   Adj. R-squared:                 -0.082\n",
       "Method:                 Least Squares   F-statistic:                    0.3150\n",
       "Date:                Wed, 21 Dec 2022   Prob (F-statistic):              0.590\n",
       "Time:                        12:57:36   Log-Likelihood:                 33.813\n",
       "No. Observations:                  10   AIC:                            -63.63\n",
       "Df Residuals:                       8   BIC:                            -63.02\n",
       "Df Model:                           1                                         \n",
       "Covariance Type:            nonrobust                                         \n",
       "====================================================================================\n",
       "                       coef    std err          t      P>|t|      [0.025      0.975]\n",
       "------------------------------------------------------------------------------------\n",
       "const                0.0055      0.016      0.348      0.737      -0.031       0.042\n",
       "regression_betas     0.0067      0.012      0.561      0.590      -0.021       0.034\n",
       "==============================================================================\n",
       "Omnibus:                        0.827   Durbin-Watson:                   1.317\n",
       "Prob(Omnibus):                  0.661   Jarque-Bera (JB):                0.695\n",
       "Skew:                           0.395   Prob(JB):                        0.706\n",
       "Kurtosis:                       1.979   Cond. No.                         11.1\n",
       "==============================================================================\n",
       "\n",
       "Notes:\n",
       "[1] Standard Errors assume that the covariance matrix of the errors is correctly specified.\n",
       "\"\"\""
      ]
     },
     "execution_count": 29,
     "metadata": {},
     "output_type": "execute_result"
    }
   ],
   "source": [
    "y1 = dftot['m_expected_returns']\n",
    "X1 = sm.add_constant(dftot.regression_betas)\n",
    "OLS_regr1 = sm.OLS(y1, X1).fit()\n",
    "y2 = dftot['m_mean_returns']\n",
    "X2 = sm.add_constant(dftot.regression_betas)\n",
    "OLS_regr2 = sm.OLS(y2, X2).fit()\n",
    "OLS_regr2.summary()"
   ]
  },
  {
   "cell_type": "code",
   "execution_count": 30,
   "id": "8dbf7ca7-f7c1-4ef7-8327-b8d8ae08aa01",
   "metadata": {},
   "outputs": [
    {
     "data": {
      "image/png": "[encoded data removed]",
      "text/plain": [
       "<Figure size 432x288 with 1 Axes>"
      ]
     },
     "metadata": {
      "needs_background": "light"
     },
     "output_type": "display_data"
    }
   ],
   "source": [
    "ax = dftot.plot(kind='scatter', x='regression_betas', y='m_mean_returns')\n",
    "ax.plot(dftot.regression_betas, OLS_regr1.predict());\n",
    "ax.plot(dftot.regression_betas, OLS_regr2.predict(), color='red');"
   ]
  },
  {
   "cell_type": "markdown",
   "id": "89ca36e6-cc04-4231-b0b6-9f8a4d2da37d",
   "metadata": {},
   "source": [
    "# Minimum varaince frontier and optimal portfolio"
   ]
  },
  {
   "cell_type": "code",
   "execution_count": 31,
   "id": "f426064c-c402-4073-a03c-a87f30c1b5fa",
   "metadata": {},
   "outputs": [],
   "source": [
    "x = np.zeros(10)"
   ]
  },
  {
   "cell_type": "code",
   "execution_count": 32,
   "id": "1c3f1971-8b86-442e-a3ab-c3619b61b268",
   "metadata": {},
   "outputs": [],
   "source": [
    "df = pd.DataFrame()\n",
    "for i in stocks:\n",
    "    stock = yf.download(i, start, end, progress = False)\n",
    "    stock_close = stock['Adj Close']\n",
    "    df[i] = stock_close.pct_change()"
   ]
  },
  {
   "cell_type": "code",
   "execution_count": 33,
   "id": "73d89e56-ddcd-4c5c-b2bb-00cad8df98c6",
   "metadata": {},
   "outputs": [
    {
     "data": {
      "text/plain": [
       "STLA.MI    0.285959\n",
       "ENEL.MI    0.180129\n",
       "ENI.MI     0.051108\n",
       "ISP.MI     0.123518\n",
       "RACE.MI    0.324403\n",
       "STM.MI     0.372715\n",
       "G.MI       0.142721\n",
       "UCG.MI     0.097131\n",
       "CNHI.MI    0.198028\n",
       "ATL.MI     0.041556\n",
       "dtype: float64"
      ]
     },
     "execution_count": 33,
     "metadata": {},
     "output_type": "execute_result"
    }
   ],
   "source": [
    "df_ind_rets = df.mean()*253\n",
    "df_ind_rets"
   ]
  },
  {
   "cell_type": "code",
   "execution_count": 34,
   "id": "c84f09d2-cf3c-4bc2-ad6c-f7247a85f6a5",
   "metadata": {},
   "outputs": [
    {
     "data": {
      "text/plain": [
       "STLA.MI    0.391415\n",
       "ENEL.MI    0.239369\n",
       "ENI.MI     0.283124\n",
       "ISP.MI     0.301561\n",
       "RACE.MI    0.274977\n",
       "STM.MI     0.403145\n",
       "G.MI       0.212023\n",
       "UCG.MI     0.386038\n",
       "CNHI.MI    0.364134\n",
       "ATL.MI     0.381100\n",
       "dtype: float64"
      ]
     },
     "execution_count": 34,
     "metadata": {},
     "output_type": "execute_result"
    }
   ],
   "source": [
    "df_ind_std = df.std() * (253**0.5)\n",
    "df_ind_std"
   ]
  },
  {
   "cell_type": "code",
   "execution_count": 35,
   "id": "c558fd56-5ea2-42e8-b0c5-088390862218",
   "metadata": {},
   "outputs": [
    {
     "data": {
      "text/html": [
       "<div>\n",
       "<style scoped>\n",
       "    .dataframe tbody tr th:only-of-type {\n",
       "        vertical-align: middle;\n",
       "    }\n",
       "\n",
       "    .dataframe tbody tr th {\n",
       "        vertical-align: top;\n",
       "    }\n",
       "\n",
       "    .dataframe thead th {\n",
       "        text-align: right;\n",
       "    }\n",
       "</style>\n",
       "<table border=\"1\" class=\"dataframe\">\n",
       "  <thead>\n",
       "    <tr style=\"text-align: right;\">\n",
       "      <th></th>\n",
       "      <th>STLA.MI</th>\n",
       "      <th>ENEL.MI</th>\n",
       "      <th>ENI.MI</th>\n",
       "      <th>ISP.MI</th>\n",
       "      <th>RACE.MI</th>\n",
       "      <th>STM.MI</th>\n",
       "      <th>G.MI</th>\n",
       "      <th>UCG.MI</th>\n",
       "      <th>CNHI.MI</th>\n",
       "      <th>ATL.MI</th>\n",
       "    </tr>\n",
       "  </thead>\n",
       "  <tbody>\n",
       "    <tr>\n",
       "      <th>STLA.MI</th>\n",
       "      <td>0.153206</td>\n",
       "      <td>0.038977</td>\n",
       "      <td>0.060309</td>\n",
       "      <td>0.066275</td>\n",
       "      <td>0.049612</td>\n",
       "      <td>0.073488</td>\n",
       "      <td>0.046339</td>\n",
       "      <td>0.077835</td>\n",
       "      <td>0.081617</td>\n",
       "      <td>0.054129</td>\n",
       "    </tr>\n",
       "    <tr>\n",
       "      <th>ENEL.MI</th>\n",
       "      <td>0.038977</td>\n",
       "      <td>0.057298</td>\n",
       "      <td>0.036450</td>\n",
       "      <td>0.039346</td>\n",
       "      <td>0.028935</td>\n",
       "      <td>0.037981</td>\n",
       "      <td>0.028176</td>\n",
       "      <td>0.042733</td>\n",
       "      <td>0.036229</td>\n",
       "      <td>0.039729</td>\n",
       "    </tr>\n",
       "    <tr>\n",
       "      <th>ENI.MI</th>\n",
       "      <td>0.060309</td>\n",
       "      <td>0.036450</td>\n",
       "      <td>0.080159</td>\n",
       "      <td>0.058243</td>\n",
       "      <td>0.031186</td>\n",
       "      <td>0.047366</td>\n",
       "      <td>0.041558</td>\n",
       "      <td>0.064965</td>\n",
       "      <td>0.056961</td>\n",
       "      <td>0.046986</td>\n",
       "    </tr>\n",
       "    <tr>\n",
       "      <th>ISP.MI</th>\n",
       "      <td>0.066275</td>\n",
       "      <td>0.039346</td>\n",
       "      <td>0.058243</td>\n",
       "      <td>0.090939</td>\n",
       "      <td>0.032626</td>\n",
       "      <td>0.050986</td>\n",
       "      <td>0.043691</td>\n",
       "      <td>0.090300</td>\n",
       "      <td>0.061278</td>\n",
       "      <td>0.047866</td>\n",
       "    </tr>\n",
       "    <tr>\n",
       "      <th>RACE.MI</th>\n",
       "      <td>0.049612</td>\n",
       "      <td>0.028935</td>\n",
       "      <td>0.031186</td>\n",
       "      <td>0.032626</td>\n",
       "      <td>0.075612</td>\n",
       "      <td>0.054741</td>\n",
       "      <td>0.024531</td>\n",
       "      <td>0.035721</td>\n",
       "      <td>0.044626</td>\n",
       "      <td>0.032008</td>\n",
       "    </tr>\n",
       "    <tr>\n",
       "      <th>STM.MI</th>\n",
       "      <td>0.073488</td>\n",
       "      <td>0.037981</td>\n",
       "      <td>0.047366</td>\n",
       "      <td>0.050986</td>\n",
       "      <td>0.054741</td>\n",
       "      <td>0.162526</td>\n",
       "      <td>0.039219</td>\n",
       "      <td>0.059448</td>\n",
       "      <td>0.072592</td>\n",
       "      <td>0.049684</td>\n",
       "    </tr>\n",
       "    <tr>\n",
       "      <th>G.MI</th>\n",
       "      <td>0.046339</td>\n",
       "      <td>0.028176</td>\n",
       "      <td>0.041558</td>\n",
       "      <td>0.043691</td>\n",
       "      <td>0.024531</td>\n",
       "      <td>0.039219</td>\n",
       "      <td>0.044954</td>\n",
       "      <td>0.054568</td>\n",
       "      <td>0.043500</td>\n",
       "      <td>0.035829</td>\n",
       "    </tr>\n",
       "    <tr>\n",
       "      <th>UCG.MI</th>\n",
       "      <td>0.077835</td>\n",
       "      <td>0.042733</td>\n",
       "      <td>0.064965</td>\n",
       "      <td>0.090300</td>\n",
       "      <td>0.035721</td>\n",
       "      <td>0.059448</td>\n",
       "      <td>0.054568</td>\n",
       "      <td>0.149025</td>\n",
       "      <td>0.073973</td>\n",
       "      <td>0.056085</td>\n",
       "    </tr>\n",
       "    <tr>\n",
       "      <th>CNHI.MI</th>\n",
       "      <td>0.081617</td>\n",
       "      <td>0.036229</td>\n",
       "      <td>0.056961</td>\n",
       "      <td>0.061278</td>\n",
       "      <td>0.044626</td>\n",
       "      <td>0.072592</td>\n",
       "      <td>0.043500</td>\n",
       "      <td>0.073973</td>\n",
       "      <td>0.132594</td>\n",
       "      <td>0.057598</td>\n",
       "    </tr>\n",
       "    <tr>\n",
       "      <th>ATL.MI</th>\n",
       "      <td>0.054129</td>\n",
       "      <td>0.039729</td>\n",
       "      <td>0.046986</td>\n",
       "      <td>0.047866</td>\n",
       "      <td>0.032008</td>\n",
       "      <td>0.049684</td>\n",
       "      <td>0.035829</td>\n",
       "      <td>0.056085</td>\n",
       "      <td>0.057598</td>\n",
       "      <td>0.145237</td>\n",
       "    </tr>\n",
       "  </tbody>\n",
       "</table>\n",
       "</div>"
      ],
      "text/plain": [
       "          STLA.MI   ENEL.MI    ENI.MI    ISP.MI   RACE.MI    STM.MI      G.MI  \\\n",
       "STLA.MI  0.153206  0.038977  0.060309  0.066275  0.049612  0.073488  0.046339   \n",
       "ENEL.MI  0.038977  0.057298  0.036450  0.039346  0.028935  0.037981  0.028176   \n",
       "ENI.MI   0.060309  0.036450  0.080159  0.058243  0.031186  0.047366  0.041558   \n",
       "ISP.MI   0.066275  0.039346  0.058243  0.090939  0.032626  0.050986  0.043691   \n",
       "RACE.MI  0.049612  0.028935  0.031186  0.032626  0.075612  0.054741  0.024531   \n",
       "STM.MI   0.073488  0.037981  0.047366  0.050986  0.054741  0.162526  0.039219   \n",
       "G.MI     0.046339  0.028176  0.041558  0.043691  0.024531  0.039219  0.044954   \n",
       "UCG.MI   0.077835  0.042733  0.064965  0.090300  0.035721  0.059448  0.054568   \n",
       "CNHI.MI  0.081617  0.036229  0.056961  0.061278  0.044626  0.072592  0.043500   \n",
       "ATL.MI   0.054129  0.039729  0.046986  0.047866  0.032008  0.049684  0.035829   \n",
       "\n",
       "           UCG.MI   CNHI.MI    ATL.MI  \n",
       "STLA.MI  0.077835  0.081617  0.054129  \n",
       "ENEL.MI  0.042733  0.036229  0.039729  \n",
       "ENI.MI   0.064965  0.056961  0.046986  \n",
       "ISP.MI   0.090300  0.061278  0.047866  \n",
       "RACE.MI  0.035721  0.044626  0.032008  \n",
       "STM.MI   0.059448  0.072592  0.049684  \n",
       "G.MI     0.054568  0.043500  0.035829  \n",
       "UCG.MI   0.149025  0.073973  0.056085  \n",
       "CNHI.MI  0.073973  0.132594  0.057598  \n",
       "ATL.MI   0.056085  0.057598  0.145237  "
      ]
     },
     "execution_count": 35,
     "metadata": {},
     "output_type": "execute_result"
    }
   ],
   "source": [
    "cov_matrix = df.cov() * 253\n",
    "cov_matrix"
   ]
  },
  {
   "cell_type": "code",
   "execution_count": 36,
   "id": "82a943f2-5f61-4596-a786-aa979b89a909",
   "metadata": {},
   "outputs": [],
   "source": [
    "def min_std(x, cov_matrix, bounds, args, ret):\n",
    "    def objective_function(x, cov_matrix):\n",
    "        return (x @ cov_matrix @ np.transpose(x))**0.5\n",
    "    \n",
    "    constraints = ({'type':'eq', 'fun': lambda x: np.sum(x) - 1},\n",
    "               {'type':'eq', 'fun': lambda x: sum(x*df_ind_rets) - ret}\n",
    "              )\n",
    "    \n",
    "    res = optimize.minimize(objective_function, x, args=args, method='SLSQP', constraints=constraints, bounds=bounds)\n",
    "    return res.fun, res.x"
   ]
  },
  {
   "cell_type": "code",
   "execution_count": 37,
   "id": "2addced6-4045-4521-a182-993c95ec49d9",
   "metadata": {},
   "outputs": [],
   "source": [
    "args = (cov_matrix,)\n",
    "bounds = Bounds(-2, 2)"
   ]
  },
  {
   "cell_type": "code",
   "execution_count": 38,
   "id": "f502dfcd-6140-4029-880f-75adcfc869d9",
   "metadata": {},
   "outputs": [],
   "source": [
    "wgt = []\n",
    "opt_std = []\n",
    "for i in np.arange(0.05, 0.7, 0.01):\n",
    "    m = min_std(x, cov_matrix, bounds, args, ret=i)\n",
    "    opt_std.append(m[0])\n",
    "    wgt.append(m[1])"
   ]
  },
  {
   "cell_type": "code",
   "execution_count": 39,
   "id": "cbce47d3-ec4a-418c-a3f9-d01739e18129",
   "metadata": {},
   "outputs": [
    {
     "data": {
      "image/png": "[encoded data removed]",
      "text/plain": [
       "<Figure size 432x288 with 1 Axes>"
      ]
     },
     "metadata": {
      "needs_background": "light"
     },
     "output_type": "display_data"
    }
   ],
   "source": [
    "plt.scatter(opt_std, np.arange(0.05, 0.7, 0.01), c='green');\n",
    "plt.scatter(df_ind_std, df_ind_rets, c='hotpink')\n",
    "plt.xlabel('Standard deviation')\n",
    "plt.ylabel('Return');\n",
    "plt.legend(['Efficient frontier', 'Stocks']);"
   ]
  },
  {
   "cell_type": "code",
   "execution_count": 40,
   "id": "3b704155-4eee-47ad-bee1-d8d0589e6788",
   "metadata": {},
   "outputs": [],
   "source": [
    "i = np.arange(0.05, 0.7, 0.01)"
   ]
  },
  {
   "cell_type": "code",
   "execution_count": 41,
   "id": "e2b82cb1-d6bc-43d6-b791-8b330d591daf",
   "metadata": {},
   "outputs": [],
   "source": [
    "dta = pd.DataFrame({'ret': i, 'weights':wgt, 'stand':opt_std})"
   ]
  },
  {
   "cell_type": "code",
   "execution_count": 42,
   "id": "dad32a79-f860-421f-af23-f45b0723f1fb",
   "metadata": {},
   "outputs": [
    {
     "data": {
      "text/html": [
       "<div>\n",
       "<style scoped>\n",
       "    .dataframe tbody tr th:only-of-type {\n",
       "        vertical-align: middle;\n",
       "    }\n",
       "\n",
       "    .dataframe tbody tr th {\n",
       "        vertical-align: top;\n",
       "    }\n",
       "\n",
       "    .dataframe thead th {\n",
       "        text-align: right;\n",
       "    }\n",
       "</style>\n",
       "<table border=\"1\" class=\"dataframe\">\n",
       "  <thead>\n",
       "    <tr style=\"text-align: right;\">\n",
       "      <th></th>\n",
       "      <th>ret</th>\n",
       "      <th>weights</th>\n",
       "      <th>stand</th>\n",
       "    </tr>\n",
       "  </thead>\n",
       "  <tbody>\n",
       "    <tr>\n",
       "      <th>0</th>\n",
       "      <td>0.05</td>\n",
       "      <td>[-0.18496203542264733, 0.21790362120751863, 0....</td>\n",
       "      <td>0.217787</td>\n",
       "    </tr>\n",
       "    <tr>\n",
       "      <th>1</th>\n",
       "      <td>0.06</td>\n",
       "      <td>[-0.1754961337523139, 0.22224408556549205, 0.3...</td>\n",
       "      <td>0.213271</td>\n",
       "    </tr>\n",
       "    <tr>\n",
       "      <th>2</th>\n",
       "      <td>0.07</td>\n",
       "      <td>[-0.16619120316022162, 0.22697609275180813, 0....</td>\n",
       "      <td>0.209025</td>\n",
       "    </tr>\n",
       "    <tr>\n",
       "      <th>3</th>\n",
       "      <td>0.08</td>\n",
       "      <td>[-0.15674441729704458, 0.2313273074283665, 0.2...</td>\n",
       "      <td>0.205065</td>\n",
       "    </tr>\n",
       "    <tr>\n",
       "      <th>4</th>\n",
       "      <td>0.09</td>\n",
       "      <td>[-0.1472551703390083, 0.23556837774501743, 0.2...</td>\n",
       "      <td>0.201408</td>\n",
       "    </tr>\n",
       "    <tr>\n",
       "      <th>...</th>\n",
       "      <td>...</td>\n",
       "      <td>...</td>\n",
       "      <td>...</td>\n",
       "    </tr>\n",
       "    <tr>\n",
       "      <th>60</th>\n",
       "      <td>0.65</td>\n",
       "      <td>[0.37960154144885433, 0.47894336180991337, -1....</td>\n",
       "      <td>0.449769</td>\n",
       "    </tr>\n",
       "    <tr>\n",
       "      <th>61</th>\n",
       "      <td>0.66</td>\n",
       "      <td>[0.3890255151001333, 0.48330954259761855, -1.1...</td>\n",
       "      <td>0.457772</td>\n",
       "    </tr>\n",
       "    <tr>\n",
       "      <th>62</th>\n",
       "      <td>0.67</td>\n",
       "      <td>[0.3984486492274187, 0.4877067929488428, -1.17...</td>\n",
       "      <td>0.465801</td>\n",
       "    </tr>\n",
       "    <tr>\n",
       "      <th>63</th>\n",
       "      <td>0.68</td>\n",
       "      <td>[0.4078675001195433, 0.4921773841231583, -1.19...</td>\n",
       "      <td>0.473857</td>\n",
       "    </tr>\n",
       "    <tr>\n",
       "      <th>64</th>\n",
       "      <td>0.69</td>\n",
       "      <td>[0.41727504518978825, 0.4968262018226268, -1.2...</td>\n",
       "      <td>0.481937</td>\n",
       "    </tr>\n",
       "  </tbody>\n",
       "</table>\n",
       "<p>65 rows × 3 columns</p>\n",
       "</div>"
      ],
      "text/plain": [
       "     ret                                            weights     stand\n",
       "0   0.05  [-0.18496203542264733, 0.21790362120751863, 0....  0.217787\n",
       "1   0.06  [-0.1754961337523139, 0.22224408556549205, 0.3...  0.213271\n",
       "2   0.07  [-0.16619120316022162, 0.22697609275180813, 0....  0.209025\n",
       "3   0.08  [-0.15674441729704458, 0.2313273074283665, 0.2...  0.205065\n",
       "4   0.09  [-0.1472551703390083, 0.23556837774501743, 0.2...  0.201408\n",
       "..   ...                                                ...       ...\n",
       "60  0.65  [0.37960154144885433, 0.47894336180991337, -1....  0.449769\n",
       "61  0.66  [0.3890255151001333, 0.48330954259761855, -1.1...  0.457772\n",
       "62  0.67  [0.3984486492274187, 0.4877067929488428, -1.17...  0.465801\n",
       "63  0.68  [0.4078675001195433, 0.4921773841231583, -1.19...  0.473857\n",
       "64  0.69  [0.41727504518978825, 0.4968262018226268, -1.2...  0.481937\n",
       "\n",
       "[65 rows x 3 columns]"
      ]
     },
     "execution_count": 42,
     "metadata": {},
     "output_type": "execute_result"
    }
   ],
   "source": [
    "dta"
   ]
  },
  {
   "cell_type": "code",
   "execution_count": 43,
   "id": "8bd84b32-b72d-4366-bff0-6d83ca54a375",
   "metadata": {},
   "outputs": [],
   "source": [
    "optimal_portfolio = dta.iloc[((dta.ret - rf)/dta.stand).idxmax()]"
   ]
  },
  {
   "cell_type": "code",
   "execution_count": 44,
   "id": "a2a82f77-693b-404d-a93d-ef1fdd24563f",
   "metadata": {},
   "outputs": [
    {
     "data": {
      "text/plain": [
       "ret                                                     0.41\n",
       "weights    [0.15405346621636026, 0.3771123259593207, -0.5...\n",
       "stand                                               0.272107\n",
       "Name: 36, dtype: object"
      ]
     },
     "execution_count": 44,
     "metadata": {},
     "output_type": "execute_result"
    }
   ],
   "source": [
    "optimal_portfolio"
   ]
  },
  {
   "cell_type": "code",
   "execution_count": 45,
   "id": "67eef3c1-0c12-4a86-a5a5-d27b6a6954a6",
   "metadata": {},
   "outputs": [
    {
     "data": {
      "text/plain": [
       "array([ 0.15405347,  0.37711233, -0.54589183,  0.04229705,  0.5895792 ,\n",
       "        0.19975493,  0.59278258, -0.20928293, -0.00617702, -0.19422776])"
      ]
     },
     "execution_count": 45,
     "metadata": {},
     "output_type": "execute_result"
    }
   ],
   "source": [
    "optimal_portfolio.weights"
   ]
  }
 ],
 "metadata": {
  "kernelspec": {
   "display_name": "Python 3 (ipykernel)",
   "language": "python",
   "name": "python3"
  },
  "language_info": {
   "codemirror_mode": {
    "name": "ipython",
    "version": 3
   },
   "file_extension": ".py",
   "mimetype": "text/x-python",
   "name": "python",
   "nbconvert_exporter": "python",
   "pygments_lexer": "ipython3",
   "version": "3.9.12"
  }
 },
 "nbformat": 4,
 "nbformat_minor": 5
}
